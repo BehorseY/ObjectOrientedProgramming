{
  "nbformat": 4,
  "nbformat_minor": 0,
  "metadata": {
    "colab": {
      "provenance": [],
      "authorship_tag": "ABX9TyMDUDXjv5+/zuOsM6pmXcYe"
    },
    "kernelspec": {
      "name": "python3",
      "display_name": "Python 3"
    },
    "language_info": {
      "name": "python"
    }
  },
  "cells": [
    {
      "cell_type": "code",
      "source": [
        "class Workplace:\n",
        "  def __init__(self, name, salary, position):\n",
        "    self.name = name\n",
        "    self.salary = salary\n",
        "    self.position = position\n",
        "\n",
        "\n",
        "employee1 = Workplace(\"Ilayda\", 500, \"Worker\")\n",
        "print(f\"Name: {employee1.name}\")\n",
        "print(f\"Daily Salary: {employee1.salary}\")\n",
        "print(f\"Position: {employee1.position}\")"
      ],
      "metadata": {
        "id": "Lhy-tfLUYR2C"
      },
      "execution_count": null,
      "outputs": []
    },
    {
      "cell_type": "code",
      "source": [
        "class Restaurant:\n",
        "  def __init__(self, dish, quantity, price):\n",
        "    self.dish = dish\n",
        "    self.quantity = quantity\n",
        "    self.price = price\n",
        "\n",
        "  def calculate_price(self):\n",
        "    return self.quantity * self.price\n",
        "\n",
        "order1 = Restaurant(\"pizza\", 2, 100)\n",
        "order2 = Restaurant(\"kofte\", 1, 150)\n",
        "\n",
        "print(f\"Total Price: {order1.calculate_price() + order2.calculate_price()}\")"
      ],
      "metadata": {
        "id": "GTekPpKnYvkJ"
      },
      "execution_count": null,
      "outputs": []
    },
    {
      "cell_type": "code",
      "source": [
        "class Library:\n",
        "  def __init__(self):\n",
        "    self.books = []\n",
        "\n",
        "  def add_book(self, book):\n",
        "    self.books.append(book)\n",
        "    print(f\"{book} added to the library\")\n",
        "\n",
        "  def display_books(self):\n",
        "    for book in self.books:\n",
        "      print(book)\n",
        "\n",
        "library = Library()\n",
        "library.add_book(\"15 Days\") # Assuming this is a book title\n",
        "library.add_book(\"Dirty\")  # Assuming this is a book title\n",
        "library.display_books()"
      ],
      "metadata": {
        "id": "RGw-e3M5YxKh"
      },
      "execution_count": null,
      "outputs": []
    },
    {
      "cell_type": "code",
      "source": [
        "books = []\n",
        "\n",
        "class Library:\n",
        "  def __init__(self, title, author, page_count):\n",
        "    self.title = title\n",
        "    self.author = author\n",
        "    self.page_count = page_count\n",
        "\n",
        "  def add_book(self):\n",
        "    book_count = int(input(\"How many books will you enter? \"))\n",
        "    for i in range(0, book_count):\n",
        "      title = input(\"Book Title: \")\n",
        "      author = input(\"Author Name: \")\n",
        "      page_count = int(input(\"Page Count: \"))\n",
        "      book_info = [title, author, page_count]\n",
        "      books.append(book_info)\n",
        "\n",
        "  def display_books(self):\n",
        "    print(books)\n",
        "\n",
        "library = Library(\"title\", \"author\", 0)\n",
        "\n",
        "while True:\n",
        "  print(\"1. Add\")\n",
        "  print(\"2. Display\")\n",
        "  print(\"3. Exit\")\n",
        "\n",
        "  operation = int(input(\"Select operation: \"))\n",
        "  if operation == 1:\n",
        "    library.add_book()\n",
        "  elif operation == 2:\n",
        "    library.display_books()\n",
        "  elif operation == 3:\n",
        "    break\n",
        "  else:\n",
        "    print(\"Invalid operation.\")"
      ],
      "metadata": {
        "id": "C_1sHt5NYzMx"
      },
      "execution_count": null,
      "outputs": []
    },
    {
      "cell_type": "code",
      "source": [
        "class ATM:\n",
        "  def __init__(self, name, balance):\n",
        "    self.balance = balance\n",
        "    self.name = name\n",
        "\n",
        "  def deposit():\n",
        "    deposit_amount = int(input(\"Enter the amount to deposit: \"))\n",
        "    balance.append(deposit_amount)\n",
        "\n",
        "  def withdraw():\n",
        "    withdrawal_amount = int(input(\"Enter the amount to withdraw: \"))\n",
        "    total = sum(balance)\n",
        "    if withdrawal_amount > total:\n",
        "      print(\"Insufficient balance\")\n",
        "    else:\n",
        "      balance.append(-withdrawal_amount)\n",
        "\n",
        "  def check_balance():\n",
        "    print(sum(balance))\n",
        "\n",
        "balance = [0]\n",
        "while True:\n",
        "  print(\"1. Deposit\")\n",
        "  print(\"2. Withdraw\")\n",
        "  print(\"3. Check Balance\")\n",
        "  print(\"4. Exit\")\n",
        "\n",
        "  operation = int(input(\"Select the operation you want to perform: \"))\n",
        "\n",
        "  if operation == 1:\n",
        "    ATM.deposit()\n",
        "  elif operation == 2:\n",
        "    ATM.withdraw()\n",
        "  elif operation == 3:\n",
        "    ATM.check_balance()\n",
        "  elif operation == 4:\n",
        "    break"
      ],
      "metadata": {
        "id": "4VBppdT8ZBUR"
      },
      "execution_count": null,
      "outputs": []
    },
    {
      "cell_type": "code",
      "source": [],
      "metadata": {
        "id": "zKaDJVSEZNwZ"
      },
      "execution_count": null,
      "outputs": []
    }
  ]
}