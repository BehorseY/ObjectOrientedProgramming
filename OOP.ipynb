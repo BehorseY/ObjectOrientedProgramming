{
  "cells": [
    {
      "cell_type": "code",
      "source": [
        "class Araba:\n",
        "  def __init__(self,marka,model,yıl):\n",
        "    self.marka=marka\n",
        "    self.model=model\n",
        "    self.yıl=yıl\n",
        "\n",
        "\n",
        "\n",
        "araba1=Araba(\"BMW\",\"3.20 İED\",2023)\n",
        "print(f\"Marka:{araba1.marka}\")\n",
        "print(f\"Model:{araba1.model}\")\n",
        "print(f\"Yıl:{araba1.yıl}\")"
      ],
      "metadata": {
        "colab": {
          "base_uri": "https://localhost:8080/"
        },
        "id": "LBMrY6TtVB6V",
        "outputId": "d90aa126-a77e-4123-ac15-386c5ddd1e0d"
      },
      "execution_count": null,
      "outputs": [
        {
          "output_type": "stream",
          "name": "stdout",
          "text": [
            "Marka:BMW\n",
            "Model:3.20 İED\n",
            "Yıl:2023\n"
          ]
        }
      ]
    },
    {
      "cell_type": "code",
      "source": [
        "class Araba:\n",
        "  def __init__(self,marka,model,yıl):\n",
        "    self.marka=marka\n",
        "    self.model=model\n",
        "    self.yıl=yıl\n",
        "\n",
        "\n",
        "\n",
        "araba1=Araba(\"BMW\",\"3.20 İED\",2023)\n",
        "print(f\"Marka:{araba1.marka}\")\n",
        "print(f\"Model:{araba1.model}\")\n",
        "print(f\"Yıl:{araba1.yıl}\")"
      ],
      "metadata": {
        "colab": {
          "base_uri": "https://localhost:8080/"
        },
        "id": "p6yUPR0cYZsD",
        "outputId": "7628d778-bb6a-4936-8667-f4852d7b0c61"
      },
      "execution_count": null,
      "outputs": [
        {
          "output_type": "stream",
          "name": "stdout",
          "text": [
            "Marka:BMW\n",
            "Model:3.20 İED\n",
            "Yıl:2023\n"
          ]
        }
      ]
    },
    {
      "cell_type": "code",
      "source": [
        "class Ogrenci:\n",
        "    def __init__(self, ad):\n",
        "        self.ad = ad\n",
        "        self.notlar = []\n",
        "\n",
        "    def notEkle(self, notu):\n",
        "        self.notlar.append(notu)\n",
        "\n",
        "    def ortalamaHesapla(self):\n",
        "        return sum(self.notlar) / len(self.notlar)\n",
        "\n",
        "\n",
        "\n",
        "ogr1 = Ogrenci(\"berat\")\n",
        "ogr1.notEkle(89)\n",
        "ogr1.notEkle(43)\n",
        "ogr1.notEkle(96)\n",
        "ogr1.ortalamaHesapla()"
      ],
      "metadata": {
        "colab": {
          "base_uri": "https://localhost:8080/"
        },
        "id": "oQDtSWkffL7k",
        "outputId": "cd19ba8e-71a3-4088-a60d-e3c969ce1c7f"
      },
      "execution_count": null,
      "outputs": [
        {
          "output_type": "execute_result",
          "data": {
            "text/plain": [
              "76.0"
            ]
          },
          "metadata": {},
          "execution_count": 22
        }
      ]
    },
    {
      "cell_type": "code",
      "source": [
        "class Makine:\n",
        "  def __init__(self,sayı1,sayı2):\n",
        "    self.sayı1=sayı1\n",
        "    self.sayı2=sayı2\n",
        "  def toplama(self):\n",
        "    return self.sayı1+self.sayı2\n",
        "\n",
        "  def cikarma(self):\n",
        "    return self.sayı1-self.sayı2\n",
        "\n",
        "  def carpma(self):\n",
        "    return self.sayı1*self.sayı2\n",
        "\n",
        "  def bölme(self):\n",
        "    return self.sayı1/self.sayı2\n",
        "\n",
        "sayılar1=Makine(10,5)\n",
        "print(f\"{sayılar1.toplama()}\")\n",
        "print(f\"{sayılar1.bölme()}\")\n",
        "print(f\"{sayılar1.carpma()}\")\n",
        "print(f\"{sayılar1.cikarma()}\")"
      ],
      "metadata": {
        "colab": {
          "base_uri": "https://localhost:8080/"
        },
        "id": "Kn-gVRM1fgE2",
        "outputId": "baf5c39e-b776-4d75-8965-938f10d184d4"
      },
      "execution_count": null,
      "outputs": [
        {
          "output_type": "stream",
          "name": "stdout",
          "text": [
            "15\n",
            "2.0\n",
            "50\n",
            "5\n"
          ]
        }
      ]
    },
    {
      "cell_type": "code",
      "source": [
        " class bmi:\n",
        "  def __init__(self,isim,yas,kilo,boy,):\n",
        "    self.isim=isim\n",
        "    self.yas=yas\n",
        "    self.boy=boy\n",
        "    self.kilo=kilo\n",
        "  def hesapla(self):\n",
        "    return self.kilo/self.boy**2\n",
        "a=input(\"lutfen isim girin\")\n",
        "b=int(input(\"lutfen yas girin\"))\n",
        "c=float(input(\"lutfen boy girin\"))\n",
        "d=int(input(\"lutfen kilo girin\"))\n",
        "spor=bmi(a,b,d,c)\n",
        "spor.hesapla()"
      ],
      "metadata": {
        "colab": {
          "base_uri": "https://localhost:8080/"
        },
        "id": "8IaSj3S3lbQ-",
        "outputId": "497d632c-4c7d-4492-c2bf-44eb1739e30d"
      },
      "execution_count": null,
      "outputs": [
        {
          "name": "stdout",
          "output_type": "stream",
          "text": [
            "lutfen isim girinberat\n",
            "lutfen yas girin16\n",
            "lutfen boy girin1.76\n",
            "lutfen kilo girin72\n"
          ]
        },
        {
          "output_type": "execute_result",
          "data": {
            "text/plain": [
              "23.243801652892564"
            ]
          },
          "metadata": {},
          "execution_count": 49
        }
      ]
    },
    {
      "cell_type": "code",
      "source": [
        "class kutuphane:\n",
        "  def __init__(self,isim,yazar,sayfa):\n",
        "    self.isim=isim\n",
        "    self.yazar=yazar\n",
        "    self.sayfa=sayfa\n",
        "  def bg(self):\n",
        "    return f\"{self.isim},{self.yazar},{self.sayfa}\"\n",
        "\n",
        "kitap1=kutuphane(\"1984\",\"george\",300)\n",
        "kitap1.bg()"
      ],
      "metadata": {
        "colab": {
          "base_uri": "https://localhost:8080/",
          "height": 35
        },
        "id": "maekNWhtqRqo",
        "outputId": "6cd5eab1-7039-4efd-cb39-97586bf1f4a4"
      },
      "execution_count": null,
      "outputs": [
        {
          "output_type": "execute_result",
          "data": {
            "text/plain": [
              "'1984,george,300'"
            ],
            "application/vnd.google.colaboratory.intrinsic+json": {
              "type": "string"
            }
          },
          "metadata": {},
          "execution_count": 50
        }
      ]
    },
    {
      "cell_type": "code",
      "source": [
        "class market:\n",
        "  def __init__(self,isim,fiyat):\n",
        "    self.isim=isim\n",
        "    self.fiyat=fiyat\n",
        "\n",
        "  def urun(self):\n",
        "    return f\"{self.isim},{self.fiyat}\"\n",
        "\n",
        "urunler=[]\n",
        "urun1=market(\"elma\",3)\n",
        "urun2=market(\"armut\",4)\n",
        "urunler.append(urun1)\n",
        "urunler.append(urun2)\n",
        "\n",
        "\n",
        "\n"
      ],
      "metadata": {
        "colab": {
          "base_uri": "https://localhost:8080/"
        },
        "id": "EzkI6yKiydbr",
        "outputId": "90f19845-01ef-423c-f70c-db7a8cc8410c"
      },
      "execution_count": null,
      "outputs": [
        {
          "output_type": "stream",
          "name": "stdout",
          "text": [
            "[]\n",
            "[]\n"
          ]
        }
      ]
    },
    {
      "cell_type": "code",
      "source": [],
      "metadata": {
        "id": "8ESIVjQEzQMb"
      },
      "execution_count": null,
      "outputs": []
    }
  ],
  "metadata": {
    "colab": {
      "provenance": []
    },
    "kernelspec": {
      "display_name": "Python 3",
      "name": "python3"
    }
  },
  "nbformat": 4,
  "nbformat_minor": 0
}