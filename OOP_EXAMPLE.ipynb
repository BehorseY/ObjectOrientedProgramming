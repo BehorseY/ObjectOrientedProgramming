{
  "cells": [
    {
      "cell_type": "code",
      "source": [
        "class Workplace:\n",
        "  def __init__(self, name, salary, position):\n",
        "    self.name = name\n",
        "    self.salary = salary\n",
        "    self.position = position\n",
        "\n",
        "\n",
        "employee1 = Workplace(\"Can\", 500, \"Worker\")\n",
        "print(f\"Name: {employee1.name}\")\n",
        "print(f\"Salary: {employee1.salary}\")\n",
        "print(f\"Position: {employee1.position}\")"
      ],
      "metadata": {
        "id": "jcnijSHbCsw4"
      },
      "execution_count": null,
      "outputs": []
    },
    {
      "cell_type": "code",
      "source": [
        "class Restaurant:\n",
        "  def __init__(self, quantity, dish, price):\n",
        "    self.quantity = quantity\n",
        "    self.dish = dish\n",
        "    self.price = price\n",
        "\n",
        "order1 = Restaurant(2, \"pizza\", 100)\n",
        "order2 = Restaurant(1, \"kofte\", 150)\n",
        "\n",
        "print(f\"Total = ({order1.quantity * order1.price + order2.quantity * order2.price})\")"
      ],
      "metadata": {
        "id": "dCkxpMsjFysn"
      },
      "execution_count": null,
      "outputs": []
    },
    {
      "cell_type": "code",
      "source": [
        "books = []\n",
        "\n",
        "class Library:\n",
        "  def __init__(self, title, author, pages):\n",
        "    self.title = title\n",
        "    self.author = author\n",
        "    self.pages = pages\n",
        "\n",
        "  def details(self):\n",
        "    return f\"{self.title},{self.author},{self.pages}\"\n",
        "\n",
        "num_books = int(input(\"How many books will you enter? \"))\n",
        "\n",
        "for i in range(0, num_books):\n",
        "  title = input(\"Book title: \")\n",
        "  author = input(\"Author name: \")\n",
        "  pages = int(input(\"Number of pages: \"))\n",
        "  book_info = [title, author, pages]\n",
        "  books.append(book_info)\n",
        "\n",
        "print(books)"
      ],
      "metadata": {
        "id": "CFNJq7gyFzJX"
      },
      "execution_count": null,
      "outputs": []
    },
    {
      "cell_type": "code",
      "source": [
        "class ShoppingMall:\n",
        "  def __init__(self, product, price, stock):\n",
        "    self.product = product\n",
        "    self.price = price\n",
        "    self.stock = stock\n",
        "\n",
        "old_stock = ShoppingMall(\"brownie\", 20, 1000)\n",
        "\n",
        "brownie_price = int(input(\"Brownie current price: \"))\n",
        "brownie_stock = int(input(\"Brownie current stock: \"))\n",
        "\n",
        "old_stock.price = brownie_price\n",
        "old_stock.stock = brownie_stock\n",
        "print(old_stock.product)\n",
        "print(f\"Current product price: {old_stock.price}\")\n",
        "print(f\"Current product stock: {old_stock.stock}\")"
      ],
      "metadata": {
        "id": "_knUS0NAFzX-"
      },
      "execution_count": null,
      "outputs": []
    },
    {
      "cell_type": "code",
      "source": [
        "balance = [0]\n",
        "\n",
        "class ATM:\n",
        "  def __init__(self, name, balance):\n",
        "    self.balance = balance\n",
        "    self.name = name\n",
        "\n",
        "  def deposit():\n",
        "    amount_to_deposit = int(input(\"Enter amount to deposit: \"))\n",
        "    balance.append(amount_to_deposit)\n",
        "\n",
        "  def withdraw():\n",
        "    amount_to_withdraw = int(input(\"Enter amount to withdraw: \"))\n",
        "    total = sum(balance)\n",
        "    if amount_to_withdraw > total:\n",
        "      print(\"Insufficient balance\")\n",
        "    else:\n",
        "      balance.append(-amount_to_withdraw)\n",
        "\n",
        "  def check_balance():\n",
        "    print(sum(balance))\n",
        "\n",
        "\n",
        "while True:\n",
        "  print(\"1. Deposit\")\n",
        "  print(\"2. Withdraw\")\n",
        "  print(\"3. Check Balance\")\n",
        "  print(\"4. Exit\")\n",
        "\n",
        "  operation = int(input(\"Select the operation you want to perform: \"))\n",
        "\n",
        "  if operation == 1:\n",
        "    ATM.deposit()\n",
        "  elif operation == 2:\n",
        "    ATM.withdraw()\n",
        "  elif operation == 3:\n",
        "    ATM.check_balance()\n",
        "  elif operation == 4:\n",
        "    break"
      ],
      "metadata": {
        "id": "ex76GaIDFzm-"
      },
      "execution_count": null,
      "outputs": []
    },
    {
      "cell_type": "code",
      "source": [
        "class IsYeri:\n",
        "  def __init__(self, isim, maas, pozisyon):\n",
        "    self.isim = isim\n",
        "    self.maas = maas\n",
        "    self.pozisyon = pozisyon\n",
        "\n",
        "\n",
        "calisan1 = IsYeri(\"Can\", 500, \"İşçi\")\n",
        "print(f\"İsim: {calisan1.isim}\")\n",
        "print(f\"Maaş: {calisan1.maas}\")\n",
        "print(f\"Pozisyon: {calisan1.pozisyon}\")"
      ],
      "metadata": {
        "id": "qlrAnHvoDtFJ"
      },
      "execution_count": null,
      "outputs": []
    },
    {
      "cell_type": "code",
      "source": [
        "class Restoran:\n",
        "  def __init__(self, miktar, yemek, fiyat):\n",
        "    self.miktar = miktar\n",
        "    self.yemek = yemek\n",
        "    self.fiyat = fiyat\n",
        "\n",
        "siparis1 = Restoran(2, \"pizza\", 100)\n",
        "siparis2 = Restoran(1, \"köfte\", 150)\n",
        "\n",
        "print(f\"Toplam = ({siparis1.miktar * siparis1.fiyat + siparis2.miktar * siparis2.fiyat})\")"
      ],
      "metadata": {
        "id": "M15-M7gWDuKB"
      },
      "execution_count": null,
      "outputs": []
    },
    {
      "cell_type": "code",
      "source": [
        "class Kutuphane:\n",
        "  def __init__(self, baslik, yazar, sayfa_sayisi):\n",
        "    self.baslik = baslik\n",
        "    self.yazar = yazar\n",
        "    self.sayfa_sayisi = sayfa_sayisi\n",
        "\n",
        "  def detaylar(self):\n",
        "    return f\"{self.baslik},{self.yazar},{self.sayfa_sayisi}\"\n",
        "\n",
        "kitaplar = []\n",
        "kitap_sayisi = int(input(\"Kaç kitap gireceksiniz? \"))\n",
        "\n",
        "for i in range(0, kitap_sayisi):\n",
        "  baslik = input(\"Kitap başlığı: \")\n",
        "  yazar = input(\"Yazar adı: \")\n",
        "  sayfa_sayisi = int(input(\"Sayfa sayısı: \"))\n",
        "  kitap_bilgisi = [baslik, yazar, sayfa_sayisi]\n",
        "  kitaplar.append(kitap_bilgisi)\n",
        "\n",
        "print(kitaplar)"
      ],
      "metadata": {
        "colab": {
          "base_uri": "https://localhost:8080/"
        },
        "id": "DUDOynwzDwBA",
        "outputId": "7c1accb2-b7e7-4f8e-cbde-29663794f18e"
      },
      "execution_count": null,
      "outputs": [
        {
          "output_type": "stream",
          "name": "stdout",
          "text": [
            "Kaç kitap gireceksiniz? 2\n",
            "Kitap başlığı: 1900\n",
            "Yazar adı: george\n",
            "Sayfa sayısı: 100\n",
            "Kitap başlığı: 1800\n",
            "Yazar adı: george\n",
            "Sayfa sayısı: 200\n",
            "[['1900', 'george', 100], ['1800', 'george', 200]]\n"
          ]
        }
      ]
    },
    {
      "cell_type": "code",
      "source": [
        "class AlisverisMerkezi:\n",
        "  def __init__(self, urun, fiyat, stok):\n",
        "    self.urun = urun\n",
        "    self.fiyat = fiyat\n",
        "    self.stok = stok\n",
        "\n",
        "eski_stok = AlisverisMerkezi(\"brownie\", 20, 1000)\n",
        "\n",
        "brownie_fiyat = int(input(\"Brownie güncel fiyatı: \"))\n",
        "brownie_stok = int(input(\"Brownie güncel stok: \"))\n",
        "\n",
        "eski_stok.fiyat = brownie_fiyat\n",
        "eski_stok.stok = brownie_stok\n",
        "print(eski_stok.urun)\n",
        "print(f\"Güncel ürün fiyatı: {eski_stok.fiyat}\")\n",
        "print(f\"Güncel ürün stok: {eski_stok.stok}\")"
      ],
      "metadata": {
        "id": "7pqc5fyyDyIQ"
      },
      "execution_count": null,
      "outputs": []
    },
    {
      "cell_type": "code",
      "source": [
        "class ATM:\n",
        "  def __init__(self, isim, bakiye):\n",
        "    self.bakiye = bakiye\n",
        "    self.isim = isim\n",
        "\n",
        "  def para_yatir():\n",
        "    yatirilacak_miktar = int(input(\"Yatırılacak miktarı girin: \"))\n",
        "    bakiye.append(yatirilacak_miktar)\n",
        "\n",
        "  def para_cek():\n",
        "    cekilecek_miktar = int(input(\"Çekilecek miktarı girin: \"))\n",
        "    toplam = sum(bakiye)\n",
        "    if cekilecek_miktar > toplam:\n",
        "      print(\"Yetersiz bakiye\")\n",
        "    else:\n",
        "      bakiye.append(-cekilecek_miktar)\n",
        "\n",
        "  def bakiye_sorgula():\n",
        "    print(sum(bakiye))\n",
        "\n",
        "bakiye = [0]\n",
        "while True:\n",
        "  print(\"1. Para Yatır\")\n",
        "  print(\"2. Para Çek\")\n",
        "  print(\"3. Bakiye Sorgula\")\n",
        "  print(\"4. Çıkış\")\n",
        "\n",
        "  islem = int(input(\"Yapmak istediğiniz işlemi seçin: \"))\n",
        "\n",
        "  if islem == 1:\n",
        "    ATM.para_yatir()\n",
        "  elif islem == 2:\n",
        "    ATM.para_cek()\n",
        "  elif islem== 3:\n",
        "    ATM.bakiye_sorgula()\n",
        "  elif islem == 4:\n",
        "    break"
      ],
      "metadata": {
        "id": "IHGMvdMUD0FA"
      },
      "execution_count": null,
      "outputs": []
    }
  ],
  "metadata": {
    "colab": {
      "provenance": []
    },
    "kernelspec": {
      "display_name": "Python 3",
      "name": "python3"
    }
  },
  "nbformat": 4,
  "nbformat_minor": 0
}